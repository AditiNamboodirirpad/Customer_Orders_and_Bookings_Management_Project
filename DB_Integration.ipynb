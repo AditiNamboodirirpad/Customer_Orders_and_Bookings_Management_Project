{
 "cells": [
  {
   "cell_type": "markdown",
   "id": "c3165b54",
   "metadata": {},
   "source": [
    "# Little Lemon Database Interaction\n",
    "\n",
    "This notebook connects to the **Little Lemon** MySQL database, retrieves table information, and executes SQL queries to fetch customer details and order data.\n",
    "\n",
    "---\n",
    "\n",
    "## 1. Install MySQL Connector\n",
    "\n",
    "```python\n",
    "!pip install mysql-connector-python\n"
   ]
  },
  {
   "cell_type": "code",
   "execution_count": 10,
   "id": "8c0ac72b",
   "metadata": {
    "scrolled": false
   },
   "outputs": [
    {
     "name": "stdout",
     "output_type": "stream",
     "text": [
      "Requirement already satisfied: mysql-connector-python in c:\\users\\thekku\\anaconda3\\lib\\site-packages (8.0.33)\n",
      "Requirement already satisfied: protobuf<=3.20.3,>=3.11.0 in c:\\users\\thekku\\anaconda3\\lib\\site-packages (from mysql-connector-python) (3.20.3)\n"
     ]
    }
   ],
   "source": [
    "# Install MySQL connector to enable Python-MySQL interaction\n",
    "!pip install mysql-connector-python"
   ]
  },
  {
   "cell_type": "markdown",
   "id": "62a4104e",
   "metadata": {},
   "source": [
    "## 2. Importing MySQL Connector and Connecting to the Database\n",
    "\n",
    "Here, the `mysql.connector` library is imported, and a connection to the **Little Lemon** database (`littlelemon_db`) is established using the provided user credentials. The `cursor` is used to execute SQL queries on the database.\n"
   ]
  },
  {
   "cell_type": "code",
   "execution_count": 11,
   "id": "eee4572b",
   "metadata": {},
   "outputs": [],
   "source": [
    "# Importing mysql.connector library for connecting and querying the database\n",
    "import mysql.connector as connector"
   ]
  },
  {
   "cell_type": "code",
   "execution_count": 17,
   "id": "5159e145",
   "metadata": {},
   "outputs": [],
   "source": [
    "# Establishing a connection to the littlelemon_db database using credentials\n",
    "connection = connector.connect(user = \"*****\", password = \"**********\", db=\"littlelemon_db\")\n",
    "# Creating a cursor object to execute queries\n",
    "cursor = connection.cursor()"
   ]
  },
  {
   "cell_type": "markdown",
   "id": "1b778701",
   "metadata": {},
   "source": [
    "## 3. Show Tables in the Database\n",
    "\n",
    "This cell executes the SQL query `SHOW tables`, which lists all the tables present in the **littlelemon_db** database. It then loops through the result to print each table name.\n"
   ]
  },
  {
   "cell_type": "code",
   "execution_count": 25,
   "id": "5bec0db3",
   "metadata": {
    "scrolled": true
   },
   "outputs": [
    {
     "name": "stdout",
     "output_type": "stream",
     "text": [
      "('bookings',)\n",
      "('customer',)\n",
      "('menu',)\n",
      "('menuitems',)\n",
      "('order delivery status',)\n",
      "('orders',)\n",
      "('ordersview',)\n",
      "('staff',)\n"
     ]
    }
   ],
   "source": [
    "# Query to show all the tables in the littlelemon_db database\n",
    "show_tables_query = \"SHOW tables\" \n",
    "# Executing the query to fetch the tables\n",
    "cursor.execute(show_tables_query)\n",
    "for table in cursor:\n",
    "    print(table)"
   ]
  },
  {
   "cell_type": "markdown",
   "id": "9f5edbe8",
   "metadata": {},
   "source": [
    "## 4. Query Customer Details with Orders Greater than $60\n",
    "\n",
    "This section executes a SQL query that retrieves customer details (`First Name`, `Last Name`, `ContactNumber`, `Address`, `Email`) from the `customer` table, along with their order total (rounded down using `floor`) from the `orders` table for all orders where the `TotalCost` exceeds 60. The query results are printed, and the column names are displayed first.\n"
   ]
  },
  {
   "cell_type": "code",
   "execution_count": 47,
   "id": "e4a30dfa",
   "metadata": {},
   "outputs": [
    {
     "name": "stdout",
     "output_type": "stream",
     "text": [
      "('First Name', 'Last Name', 'ContactNumber', 'Address', 'Email', 'floor(o.TotalCost )')\n",
      "('Olivia', 'Smith', 2344321234, '12 Dundas St', 'oliviasmith@gmail.com', 301)\n",
      "('Emma', 'Johnson', 4566543456, '56 Lee Centre Dr', 'emmajohnson@gmail.com', 141)\n",
      "('Charlotte', 'Williams', 7899876789, '57 Bay St', 'charlottewilliams@gmail.com', 201)\n",
      "('Amelia', 'Brown', 4322341243, '67 Adelaide Dr', 'ameliabrown@gmail.com', 170)\n"
     ]
    }
   ],
   "source": [
    "# SQL query to fetch customer details and total order cost from customers who placed orders above $60\n",
    "Customer_deets='SELECT c.`First Name` ,c.`Last Name`,c.ContactNumber,c.Address,c.Email, floor(o.TotalCost ) FROM customer c inner join orders o on c.CustomerID = o.CustomerID where TotalCost>60'\n",
    "# Executing the customer query\n",
    "cursor.execute(Customer_deets)\n",
    "# Retrieving and printing the column names of the query result\n",
    "cols = cursor.column_names\n",
    "print(cols)\n",
    "# Printing the customer details along with their order information\n",
    "for table in cursor:\n",
    "    print(table)"
   ]
  },
  {
   "cell_type": "markdown",
   "id": "b6cc62c2",
   "metadata": {},
   "source": [
    "This notebook allows you to explore and interact with the **Little Lemon** database directly from Python."
   ]
  }
 ],
 "metadata": {
  "kernelspec": {
   "display_name": "Python 3 (ipykernel)",
   "language": "python",
   "name": "python3"
  },
  "language_info": {
   "codemirror_mode": {
    "name": "ipython",
    "version": 3
   },
   "file_extension": ".py",
   "mimetype": "text/x-python",
   "name": "python",
   "nbconvert_exporter": "python",
   "pygments_lexer": "ipython3",
   "version": "3.10.14"
  }
 },
 "nbformat": 4,
 "nbformat_minor": 5
}
